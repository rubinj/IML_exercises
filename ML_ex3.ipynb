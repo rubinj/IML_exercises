{
 "cells": [
  {
   "cell_type": "markdown",
   "metadata": {},
   "source": [
    "## Machine Learning - Ex.3\n",
    "\n",
    "\n",
    "Submitted by: [**enter your name/s**]"
   ]
  },
  {
   "cell_type": "code",
   "execution_count": 1,
   "metadata": {},
   "outputs": [],
   "source": [
    "%matplotlib inline\n",
    "\n",
    "import numpy as np\n",
    "import matplotlib.pyplot as plt"
   ]
  },
  {
   "cell_type": "markdown",
   "metadata": {},
   "source": [
    "### Logistic regression (1-D)\n",
    "\n",
    "First, lets generate some 1-D training data:"
   ]
  },
  {
   "cell_type": "code",
   "execution_count": 2,
   "metadata": {},
   "outputs": [
    {
     "data": {
      "image/png": "[encoded data removed]",
      "text/plain": [
       "<Figure size 432x288 with 1 Axes>"
      ]
     },
     "metadata": {
      "needs_background": "light"
     },
     "output_type": "display_data"
    }
   ],
   "source": [
    "def generate_data_1D (N=30):\n",
    "    w = np.array([-16,3])\n",
    "    x = np.random.random((N,1))*10\n",
    "    X = np.concatenate((np.ones((N,1)),x),axis=1)\n",
    "    z = np.dot(X,w)\n",
    "    h = 1/(1+np.exp(-z))\n",
    "    r = np.random.rand(N)\n",
    "    y = np.zeros(N)\n",
    "    y[r<h] = 1\n",
    "    return x,y\n",
    "\n",
    "\n",
    "x,y = generate_data_1D()\n",
    "\n",
    "plt.plot(x[y==0],y[y==0],'ob')\n",
    "plt.plot(x[y==1],y[y==1],'or')\n",
    "plt.grid()\n",
    "plt.show()\n"
   ]
  },
  {
   "cell_type": "markdown",
   "metadata": {},
   "source": [
    "Next, implement a *gradient descent* algorithm to solve the *logistic regression* problem:\n",
    "\n",
    "\n",
    "\n",
    "$$  \\hat{y_{}}(\\vec{x};\\vec{w}) = g(\\vec{w}\\cdot\\vec{x}) $$\n",
    "\n",
    "where $\\vec{x},\\vec{w}\\in\\mathcal{R}^d$ and $g(\\cdot)$ is the sigmoid function:\n",
    "\n",
    "$$ g(z)=\\frac{1}{1+e^{-z}} $$\n",
    "\n",
    "Assume the input data ($N$ samples) is given in a matrix $X$ of size $N\\times d$.\n",
    "\n"
   ]
  },
  {
   "cell_type": "code",
   "execution_count": null,
   "metadata": {},
   "outputs": [],
   "source": [
    "def gradient_descent (X, y, alpha=0.1, T=100):\n",
    "    J = np.zeros(T) \n",
    "    N,d = X.shape\n",
    "    w = np.zeros(d)    \n",
    "    for t in range(T):\n",
    "        # your code here..    \n",
    "    return w, J \n",
    "\n"
   ]
  },
  {
   "cell_type": "markdown",
   "metadata": {},
   "source": [
    "Use your gradient descent function to fit a logistic model to the training data:\n",
    "\n",
    "$$  \\hat{y_{}}(\\vec{x};\\vec{w}) = g(\\vec{w}\\cdot\\vec{x}) = g(w_0 + w_1 x)$$\n",
    "\n",
    "hint: don't forget to add a 'ones' coloumn to the input matrix.\n",
    "\n",
    "(as always, make sure the algorithm indeed converged).\n",
    "\n",
    "\n",
    "\n",
    "Finally, plot data points together with the sigmoid regression line. Try to add vertical lines from each data point to the regression line."
   ]
  },
  {
   "cell_type": "code",
   "execution_count": null,
   "metadata": {},
   "outputs": [],
   "source": [
    "# your code here..  "
   ]
  },
  {
   "cell_type": "markdown",
   "metadata": {},
   "source": [
    "### Logistic regression (2-D)\n",
    "\n",
    "Lets generate some 2-D training data:\n",
    "\n"
   ]
  },
  {
   "cell_type": "code",
   "execution_count": 3,
   "metadata": {},
   "outputs": [
    {
     "data": {
      "image/png": "[encoded data removed]",
      "text/plain": [
       "<Figure size 432x288 with 1 Axes>"
      ]
     },
     "metadata": {
      "needs_background": "light"
     },
     "output_type": "display_data"
    }
   ],
   "source": [
    "def generate_data_2D (N=100):\n",
    "    x = np.random.random((N,2))*10\n",
    "    X = np.concatenate((np.ones((N,1)),x),axis=1);\n",
    "    w = np.array([-16,3,1])\n",
    "    z = np.dot(X,w)\n",
    "    h = 1/(1+np.exp(-z))\n",
    "    r = np.random.rand(N)\n",
    "    y = np.zeros(N)\n",
    "    y[r<h] = 1\n",
    "    return x,y\n",
    "\n",
    "\n",
    "x,y = generate_data_2D()\n",
    "\n",
    "plt.plot(x[y==0,0],x[y==0,1],'ob')\n",
    "plt.plot(x[y==1,0],x[y==1,1],'or')\n",
    "plt.show()\n",
    "\n"
   ]
  },
  {
   "cell_type": "markdown",
   "metadata": {},
   "source": [
    "Use the same algoirthm from part I, to learn a 2-D logistic model:\n",
    "\n",
    "$$  \\hat{y_{}}(\\vec{x};\\vec{w}) = g(\\vec{w}\\cdot\\vec{x}) = g(w_0 + w_1 x_1 + w_2 x_2)$$\n",
    "\n",
    "\n",
    "\n",
    "\n",
    "- Use `meshgrid` and `contour` to plot the 2-D function $g(\\vec{w}\\cdot\\vec{x})$. Use the blue-white-red colormap: cmap=plt.cm.bwr\n",
    "- Plot the data points (in blue and red) on top of the previous plot\n",
    "- Try to add a black contour line that represents the *decision boundary*: $g(\\vec{w}\\cdot\\vec{x})=0.5$ "
   ]
  },
  {
   "cell_type": "code",
   "execution_count": null,
   "metadata": {},
   "outputs": [],
   "source": [
    "# your code here..\n",
    "\n"
   ]
  },
  {
   "cell_type": "markdown",
   "metadata": {},
   "source": [
    "## Good luck !"
   ]
  }
 ],
 "metadata": {
  "anaconda-cloud": {},
  "kernelspec": {
   "display_name": "Python 3",
   "language": "python",
   "name": "python3"
  },
  "language_info": {
   "codemirror_mode": {
    "name": "ipython",
    "version": 3
   },
   "file_extension": ".py",
   "mimetype": "text/x-python",
   "name": "python",
   "nbconvert_exporter": "python",
   "pygments_lexer": "ipython3",
   "version": "3.7.2"
  }
 },
 "nbformat": 4,
 "nbformat_minor": 1
}
