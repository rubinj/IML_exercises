{
 "cells": [
  {
   "cell_type": "markdown",
   "metadata": {},
   "source": [
    "## Machine Learning - Ex.1\n",
    "\n",
    "\n",
    "Submitted by: [**enter your name/s**]"
   ]
  },
  {
   "cell_type": "code",
   "execution_count": 2,
   "metadata": {
    "collapsed": true
   },
   "outputs": [],
   "source": [
    "%matplotlib inline\n",
    "\n",
    "import numpy as np\n",
    "import matplotlib.pyplot as plt"
   ]
  },
  {
   "cell_type": "code",
   "execution_count": 13,
   "metadata": {
    "collapsed": false
   },
   "outputs": [
    {
     "data": {
      "image/png": "[encoded data removed]",
      "text/plain": [
       "<Figure size 432x288 with 1 Axes>"
      ]
     },
     "metadata": {
      "needs_background": "light"
     },
     "output_type": "display_data"
    }
   ],
   "source": [
    "# generate the training data:\n",
    "\n",
    "N = 12\n",
    "x = np.random.random(N)*10-5\n",
    "e = np.random.randn(N)*15\n",
    "y = 15*x + 50 + e\n",
    "\n",
    "plt.plot(x,y,'or')\n",
    "plt.xlabel('X')\n",
    "plt.ylabel('Y')\n",
    "plt.title('Training data')\n",
    "plt.grid()\n",
    "plt.show()"
   ]
  },
  {
   "cell_type": "markdown",
   "metadata": {},
   "source": [
    "### Cost function visualization\n",
    "\n",
    "The cost function $J(w_0,w_1)$ is defined as follows,\n",
    "\n",
    "$$J(w_0,w_1)=\\frac{1}{N}\\sum_{i=1}^{N}{( w_0+w_1 x_i - y_i) ^2 }$$\n",
    "\n",
    "Calculate $J(w_0,w_1)$ for the following parameters space:\n",
    "\n",
    "$$ w_0 \\in (0,100), w_1 \\in (0,30)$$\n",
    "\n",
    "Use a contour plot to visualize the result.\n",
    "\n",
    "Tip: go over the `python_intro.ipynb` notebook.\n"
   ]
  },
  {
   "cell_type": "code",
   "execution_count": 3,
   "metadata": {
    "collapsed": true
   },
   "outputs": [],
   "source": [
    "# your code here..."
   ]
  },
  {
   "cell_type": "markdown",
   "metadata": {},
   "source": [
    "### Gradient Descent\n",
    "\n",
    "Implement the **gradient descent** algorithm and find the parameters $(w_0,w_1)$ that minimize the cost function.\n",
    "\n",
    "Start from $w^{(0)}_0=0,w^{(0)}_1=0$ and iterate the algorithm for $T=100$ steps (or more if needed).\n",
    "\n",
    "Verify that algorithm indeed converged by plotting the cost function $J(w^{(t)}_0,w^{(t)}_1)$ as a function of iteration $t=0,1,..,T$. \n",
    "\n",
    "(when showing graphs, make sure to add proper labels/titles to make it readable)\n",
    "\n",
    "Tip: usually it's better to plot $\\log(J)$ instead of $J$.\n"
   ]
  },
  {
   "cell_type": "code",
   "execution_count": 4,
   "metadata": {
    "collapsed": true
   },
   "outputs": [],
   "source": [
    "# your code here.."
   ]
  },
  {
   "cell_type": "markdown",
   "metadata": {},
   "source": [
    "### Visualize the path of the algorithm\n",
    "\n",
    "Each iteration $t=1,..,T$ of the algorithm, results in a combination of the parameters: $w^{(t)}_0$ and $w^{(t)}_1$.\n",
    "\n",
    "These combinations can be shown as a series of points in the parameters space $(w_0,w_1)$.\n",
    "\n",
    "Plot again the cost function $J(w_0,w_1)$ and add on top of it, the series of points created by the algorithm. Verify that it indeed converged to the minimum of the cost function."
   ]
  },
  {
   "cell_type": "code",
   "execution_count": 5,
   "metadata": {
    "collapsed": true
   },
   "outputs": [],
   "source": [
    "# your code here.."
   ]
  },
  {
   "cell_type": "markdown",
   "metadata": {},
   "source": [
    "### Linear regression\n",
    "\n",
    "The gradient descent should have converged to linear regression solution:\n",
    "\n",
    "$$ f(x) = w_0 + w_1 x$$\n",
    "\n",
    "Plot the training data and add to the plot the linear function: $y=f(x)$. Verify that the result makes sense."
   ]
  },
  {
   "cell_type": "code",
   "execution_count": 6,
   "metadata": {
    "collapsed": true
   },
   "outputs": [],
   "source": [
    "# your code here.."
   ]
  },
  {
   "cell_type": "markdown",
   "metadata": {},
   "source": [
    "## Good luck !"
   ]
  }
 ],
 "metadata": {
  "anaconda-cloud": {},
  "kernelspec": {
   "display_name": "Python 3",
   "language": "python",
   "name": "python3"
  },
  "language_info": {
   "codemirror_mode": {
    "name": "ipython",
    "version": 3
   },
   "file_extension": ".py",
   "mimetype": "text/x-python",
   "name": "python",
   "nbconvert_exporter": "python",
   "pygments_lexer": "ipython3",
   "version": "3.7.0"
  }
 },
 "nbformat": 4,
 "nbformat_minor": 2
}
