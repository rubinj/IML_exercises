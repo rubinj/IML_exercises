{
 "cells": [
  {
   "cell_type": "markdown",
   "metadata": {},
   "source": [
    "## Machine Learning - Ex.4\n",
    "\n",
    "\n",
    "Submitted by: [**enter your name/s**]"
   ]
  },
  {
   "cell_type": "code",
   "execution_count": 3,
   "metadata": {},
   "outputs": [],
   "source": [
    "%matplotlib inline\n",
    "\n",
    "import numpy as np\n",
    "import matplotlib.pyplot as plt"
   ]
  },
  {
   "cell_type": "markdown",
   "metadata": {},
   "source": [
    "### 1. Non-linear Logistic regression (2-D)\n",
    "Lets generate some 2-D training data:"
   ]
  },
  {
   "cell_type": "code",
   "execution_count": 34,
   "metadata": {},
   "outputs": [
    {
     "data": {
      "image/png": "[encoded data removed]",
      "text/plain": [
       "<Figure size 432x288 with 1 Axes>"
      ]
     },
     "metadata": {
      "needs_background": "light"
     },
     "output_type": "display_data"
    }
   ],
   "source": [
    "def generate_data_2D (N=100):\n",
    "    x = np.random.random((N,2))*2-1\n",
    "    X = np.concatenate((np.ones((N,1)),x,x**2,(x[:,0]*x[:,1])[:,None]),axis=1);\n",
    "    w = np.array([-0.3,0,0,1,1,0])*10\n",
    "    z = np.dot(X,w)\n",
    "    h = 1/(1+np.exp(-z))\n",
    "    r = np.random.rand(N)\n",
    "    y = np.zeros(N)\n",
    "    y[r<h] = 1\n",
    "    return x,y\n",
    "\n",
    "\n",
    "x,y = generate_data_2D(N=100)\n",
    "\n",
    "plt.plot(x[y==0,0],x[y==0,1],'ob',markeredgecolor='gray',markersize=8)\n",
    "plt.plot(x[y==1,0],x[y==1,1],'or',markeredgecolor='gray',markersize=8)\n",
    "plt.grid()\n",
    "plt.show()\n"
   ]
  },
  {
   "cell_type": "markdown",
   "metadata": {},
   "source": [
    "Use the same algoirthm from Ex.3, to fit the following 2-D **non-linear** logistic model:\n",
    "\n",
    "$$  \\hat{y_{}}(\\vec{x};\\vec{w}) = g(\\vec{w}\\cdot\\vec{x}) = g(w_0 + w_1 x_1 + w_2 x_2 + w_3 x_1^2 + w_4 x_2^2 + w_5 x_1 x_2)$$\n",
    "\n",
    "where $g(\\cdot)$ is the sigmoid function:\n",
    "\n",
    "$$ g(z)=\\frac{1}{1+e^{-z}} $$\n",
    "\n",
    "hint: map the 2-D input samples to a higher dimension..\n",
    "\n",
    "\n",
    "Plot the results as you did in Ex.3:\n",
    "- Use `meshgrid` and `contour` to plot the 2-D function $g(\\vec{w}\\cdot\\vec{x})$. Use the blue-white-red colormap: cmap=plt.cm.bwr\n",
    "- Plot the data points (in blue and red) on top of the previous plot\n",
    "- Add a black contour line that represents the **non-linear** decision boundary: $g(\\vec{w}\\cdot\\vec{x})=0.5$ \n",
    "\n",
    "\n",
    "\n"
   ]
  },
  {
   "cell_type": "code",
   "execution_count": null,
   "metadata": {},
   "outputs": [],
   "source": [
    "# your code here..    \n"
   ]
  },
  {
   "cell_type": "markdown",
   "metadata": {},
   "source": [
    "### 2. Polynomial regression - overfitting\n",
    "\n",
    "First, lets generate some polynomial training data and divide it (50%/50% split) into training set (red) and testing set:"
   ]
  },
  {
   "cell_type": "code",
   "execution_count": 37,
   "metadata": {},
   "outputs": [
    {
     "data": {
      "image/png": "[encoded data removed]",
      "text/plain": [
       "<Figure size 432x288 with 1 Axes>"
      ]
     },
     "metadata": {
      "needs_background": "light"
     },
     "output_type": "display_data"
    }
   ],
   "source": [
    "def generate_data (N=30):\n",
    "    x = np.random.rand(N)*2-1 \n",
    "    y = (x-0.9)*2*x*(x+0.9) # 3rd degree polynom\n",
    "    y += np.random.randn(N)*0.1 # add gaussian noise (with sigma = 4)\n",
    "    return x,y\n",
    "\n",
    "\n",
    "x,y = generate_data()\n",
    "\n",
    "x_trn = x[::2] # 0,2,4,6,...\n",
    "y_trn = y[::2]\n",
    "\n",
    "x_tst = x[1::2] # 1,3,5,7,...\n",
    "y_tst = y[1::2]\n",
    "\n",
    "plt.plot(x_trn,y_trn,'or',x_tst,y_tst,'ob',markeredgecolor='gray',markersize=8)\n",
    "plt.legend(['train','test'])\n",
    "plt.grid()\n",
    "plt.show()\n"
   ]
  },
  {
   "cell_type": "markdown",
   "metadata": {},
   "source": [
    "- Fit polynomial models of different degrees (from d=1, d=2, and up to d=9) to the data (use **only** the training data when fitting the models).\n",
    "\n",
    "- For each polymonial model,  plot the resulting curve (together with train/test points) and calculate training/test errors. use subplots. \n",
    "\n",
    "- Finally, plot the training errors and the test errors as a function of the polynomial degree. Use log-scale if necessary: `plt.yscale('log')`\n"
   ]
  },
  {
   "cell_type": "code",
   "execution_count": null,
   "metadata": {},
   "outputs": [],
   "source": [
    "# your code here..\n",
    "\n"
   ]
  },
  {
   "cell_type": "markdown",
   "metadata": {},
   "source": [
    "### 3. Polynomial regression - regularization\n",
    "\n",
    "In this section we will use the same data from the previous section to learn a 9-th degree polynomial model. To avoid overfitting we will use regularization:\n",
    "\n",
    "$$ J(\\vec{w}) = \\frac{1}{n} \\sum_{i=1}^n{(\\hat{y_i}-y_i)^2} + \\lambda \\vec{w}\\cdot\\vec{w}$$\n",
    "\n",
    "Try different values of $\\lambda$ (use: `np.logspace`): \n",
    "$$\\lambda=10^{-7},10^{-6},...,10^{+1}$$\n",
    "\n",
    "- For each model,  plot the resulting curve (together with train/test points) and calculate training/test errors. use subplots. \n",
    "\n",
    "- Finally, plot the training errors and the test errors as a function of $\\lambda$. Use log-scales on both axis if necessary."
   ]
  },
  {
   "cell_type": "code",
   "execution_count": null,
   "metadata": {},
   "outputs": [],
   "source": [
    "# your code here..\n",
    "\n"
   ]
  },
  {
   "cell_type": "markdown",
   "metadata": {},
   "source": [
    "## Good luck !"
   ]
  }
 ],
 "metadata": {
  "anaconda-cloud": {},
  "kernelspec": {
   "display_name": "Python 3",
   "language": "python",
   "name": "python3"
  },
  "language_info": {
   "codemirror_mode": {
    "name": "ipython",
    "version": 3
   },
   "file_extension": ".py",
   "mimetype": "text/x-python",
   "name": "python",
   "nbconvert_exporter": "python",
   "pygments_lexer": "ipython3",
   "version": "3.7.0"
  }
 },
 "nbformat": 4,
 "nbformat_minor": 1
}
