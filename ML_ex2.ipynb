{
 "cells": [
  {
   "cell_type": "markdown",
   "metadata": {},
   "source": [
    "## Machine Learning - Ex.2\n",
    "\n",
    "\n",
    "Submitted by: **[enter your name/s]**"
   ]
  },
  {
   "cell_type": "code",
   "execution_count": 2,
   "metadata": {},
   "outputs": [],
   "source": [
    "%matplotlib inline\n",
    "\n",
    "import numpy as np\n",
    "import matplotlib.pyplot as plt"
   ]
  },
  {
   "cell_type": "markdown",
   "metadata": {},
   "source": [
    "## Multivariate Linear Regression\n",
    "\n",
    "In this exercise we will implement a gradient descent algorithm to solve multivariate linear regression problems.\n",
    "\n",
    "Then, we will test our algorithm on two different problems:\n",
    "\n",
    "1. A simple 2-D dataset of housing prices: house price $y$ (in $) as a function of its living area $x_1$ (in square feet) and the number of bedrooms $x_2$.\n",
    "\n",
    "2. A *non-linear* 1-D problem. \n",
    "\n",
    "\n",
    "\n",
    "As a first step, **implement the gradient descent algorithm** (for multivariate linear regression) as discussed in class.\n",
    "\n",
    "The algorithm should get the $N\\times (d+1)$ design matrix $X$ containing all the features ($N$ data samples, each one consists of $d+1$ features) and an $N$-vector of the corresponding $y$ values.\n",
    "\n",
    "The algorithm starts from an initial guess of $\\vec{w}\\in\\mathcal{R}^{d+1}$ of a vector of zeros, and iterates over the update rule for $T$ steps.\n",
    "\n",
    "The algorithm returns the final weights vector: $\\vec{w}^{(T)}=(w_0,w_1,...,w_d)$, and the values of the cost function along the run: $\\vec{J}=(J^{(1)},J^{(2)},...,J^{(T)})$.\n"
   ]
  },
  {
   "cell_type": "code",
   "execution_count": 1,
   "metadata": {},
   "outputs": [],
   "source": [
    "def gradient_descent (X, y, alpha=0.01, T=100):\n",
    "    J = np.zeros(T) # to hold the cost function value J at each iteration\n",
    "    N,d = X.shape\n",
    "    w = np.zeros(d)\n",
    "    # your code here..\n",
    "    \n",
    "\n",
    "    return w, J"
   ]
  },
  {
   "cell_type": "markdown",
   "metadata": {},
   "source": [
    "### 1. Housing problem (simplified version)\n",
    "\n",
    "Download and import the dataset files: `ex2x.dat` and `ex2y.dat`.\n",
    "\n",
    "Explore the dataset: \n",
    "- How many samples it has? [**your answer comes here**]\n",
    "- How many features each of the samples has? \n",
    "- Are the features discrete or continous?\n",
    "- What is the range of each of the features (min to max)?\n",
    "- What is the range of the target values (the prices)?"
   ]
  },
  {
   "cell_type": "code",
   "execution_count": null,
   "metadata": {},
   "outputs": [],
   "source": [
    "x = np.genfromtxt('ex2x.dat')\n",
    "y = np.genfromtxt('ex2y.dat')\n",
    "\n",
    "# your code here.."
   ]
  },
  {
   "cell_type": "markdown",
   "metadata": {},
   "source": [
    "Use your gradient descent algorithm to find an optimal solution $\\vec{w}$ for the multivariate linear model:\n",
    "\n",
    "$$ \\hat{y} = w_0 + w_1 x_1 + w_2 x_2 $$\n",
    "\n",
    "where $x_1$ is the house area and $x_2$ is the number of bedrooms. (hint: don't forget to add a column of `ones` to  the design matrix $X$).\n",
    "\n",
    "- Verify that the algorithm has indeed converged by ploting the graph of $J(t)$). If the graph diverges, try to decrease the learning rate by a factor of 10.\n",
    "- Print the values of the final $\\vec{w}$.\n",
    "- Use $\\vec{w}$ to estimate the price of a house with 1650 square feet and 3 bedroom (hint: should be around 300,000$).\n",
    "\n"
   ]
  },
  {
   "cell_type": "code",
   "execution_count": null,
   "metadata": {},
   "outputs": [],
   "source": [
    "# your code here.."
   ]
  },
  {
   "cell_type": "markdown",
   "metadata": {},
   "source": [
    "### 2. Non-linear (polynomial) fit\n",
    "\n",
    "In this section we will fit to the data a **polynomial model** of degree $d$,\n",
    "\n",
    "$$ f(x;w) = w_0 + w_1 x + w_2 x^2 + ... + w_d x^d $$\n",
    "\n",
    "Lets generate some data:"
   ]
  },
  {
   "cell_type": "code",
   "execution_count": 8,
   "metadata": {},
   "outputs": [
    {
     "data": {
      "image/png": "[encoded data removed]",
      "text/plain": [
       "<Figure size 432x288 with 1 Axes>"
      ]
     },
     "metadata": {
      "needs_background": "light"
     },
     "output_type": "display_data"
    }
   ],
   "source": [
    "N = 30\n",
    "\n",
    "# generate N sample points \n",
    "x = np.linspace(0,5,N) \n",
    "y = x**3 -2*x**2 -5*x + 10 # 3rd degree polynom\n",
    "y += np.random.randn(N)*4 # add gaussian noise (with sigma = 4)\n",
    "\n",
    "# plot the data\n",
    "plt.plot(x,y,'or')\n",
    "plt.grid()\n",
    "plt.show()"
   ]
  },
  {
   "cell_type": "markdown",
   "metadata": {},
   "source": [
    "As a first step, write a function that generates a $N\\times(d+1)$ **design-matrix** from the data $\\{x_i\\}_{i=1}^N$, where the $j$-th coloumn ($j=0,1,...,d)$ contains the values of $(x_i)^j$.\n",
    "\n",
    "tip: you can use numpy's *broadcasting* technique to perform that without any loops: \n",
    "\n",
    "- http://www.labri.fr/perso/nrougier/from-python-to-numpy/index.html#broadcasting"
   ]
  },
  {
   "cell_type": "code",
   "execution_count": null,
   "metadata": {
    "collapsed": true
   },
   "outputs": [],
   "source": [
    "### Generate the design-matrix ....\n",
    "\n",
    "def design_matrix(x, d):\n",
    "    # your code here...\n",
    "    \n",
    "    return X  \n",
    "\n",
    "\n",
    "\n",
    "\n",
    "# test your code using this:\n",
    "design_matrix(np.arange(6),3)\n",
    "\n",
    "# did you get what you expect?\n",
    "\n"
   ]
  },
  {
   "cell_type": "markdown",
   "metadata": {},
   "source": [
    "Next, use your algorithm to fit a **cubic** model to the data:\n",
    "\n",
    "$$ f(x;w)=w_0 + w_1 x + w_2 x^2 + w_3 x^3 $$\n",
    "\n",
    "Verify that the algorithm has indeed converged (plot J, or better log(J), as a function of iteration).\n",
    "\n"
   ]
  },
  {
   "cell_type": "code",
   "execution_count": null,
   "metadata": {
    "collapsed": true
   },
   "outputs": [],
   "source": [
    "# your code here..\n"
   ]
  },
  {
   "cell_type": "markdown",
   "metadata": {},
   "source": [
    "Finally, plot the sample points $\\{(x_i,y_i)\\}_{i=1}^N$ together with the fitted polynom $f(x;w)$:\n"
   ]
  },
  {
   "cell_type": "code",
   "execution_count": 3,
   "metadata": {},
   "outputs": [
    {
     "ename": "NameError",
     "evalue": "name 'w' is not defined",
     "output_type": "error",
     "traceback": [
      "\u001b[0;31m---------------------------------------------------------------------------\u001b[0m",
      "\u001b[0;31mNameError\u001b[0m                                 Traceback (most recent call last)",
      "\u001b[0;32m<ipython-input-3-b743f4477f93>\u001b[0m in \u001b[0;36m<module>\u001b[0;34m()\u001b[0m\n\u001b[1;32m      1\u001b[0m \u001b[0mxx\u001b[0m \u001b[0;34m=\u001b[0m \u001b[0mnp\u001b[0m\u001b[0;34m.\u001b[0m\u001b[0mlinspace\u001b[0m\u001b[0;34m(\u001b[0m\u001b[0;34m-\u001b[0m\u001b[0;36m3.2\u001b[0m\u001b[0;34m,\u001b[0m\u001b[0;36m5.2\u001b[0m\u001b[0;34m,\u001b[0m\u001b[0;36m100\u001b[0m\u001b[0;34m)\u001b[0m\u001b[0;34m\u001b[0m\u001b[0m\n\u001b[0;32m----> 2\u001b[0;31m \u001b[0myy\u001b[0m \u001b[0;34m=\u001b[0m \u001b[0mw\u001b[0m\u001b[0;34m[\u001b[0m\u001b[0;36m0\u001b[0m\u001b[0;34m]\u001b[0m \u001b[0;34m+\u001b[0m \u001b[0mw\u001b[0m\u001b[0;34m[\u001b[0m\u001b[0;36m1\u001b[0m\u001b[0;34m]\u001b[0m\u001b[0;34m*\u001b[0m\u001b[0mxx\u001b[0m \u001b[0;34m+\u001b[0m \u001b[0mw\u001b[0m\u001b[0;34m[\u001b[0m\u001b[0;36m2\u001b[0m\u001b[0;34m]\u001b[0m\u001b[0;34m*\u001b[0m\u001b[0;34m(\u001b[0m\u001b[0mxx\u001b[0m\u001b[0;34m**\u001b[0m\u001b[0;36m2\u001b[0m\u001b[0;34m)\u001b[0m \u001b[0;34m+\u001b[0m \u001b[0mw\u001b[0m\u001b[0;34m[\u001b[0m\u001b[0;36m3\u001b[0m\u001b[0;34m]\u001b[0m\u001b[0;34m*\u001b[0m\u001b[0;34m(\u001b[0m\u001b[0mxx\u001b[0m\u001b[0;34m**\u001b[0m\u001b[0;36m3\u001b[0m\u001b[0;34m)\u001b[0m\u001b[0;34m\u001b[0m\u001b[0m\n\u001b[0m\u001b[1;32m      3\u001b[0m \u001b[0;34m\u001b[0m\u001b[0m\n\u001b[1;32m      4\u001b[0m \u001b[0mplt\u001b[0m\u001b[0;34m.\u001b[0m\u001b[0mplot\u001b[0m\u001b[0;34m(\u001b[0m\u001b[0mx\u001b[0m\u001b[0;34m,\u001b[0m\u001b[0my\u001b[0m\u001b[0;34m,\u001b[0m\u001b[0;34m'or'\u001b[0m\u001b[0;34m,\u001b[0m\u001b[0mxx\u001b[0m\u001b[0;34m,\u001b[0m\u001b[0myy\u001b[0m\u001b[0;34m,\u001b[0m\u001b[0;34m'-k'\u001b[0m\u001b[0;34m)\u001b[0m\u001b[0;34m\u001b[0m\u001b[0m\n\u001b[1;32m      5\u001b[0m \u001b[0mplt\u001b[0m\u001b[0;34m.\u001b[0m\u001b[0mgrid\u001b[0m\u001b[0;34m(\u001b[0m\u001b[0;34m)\u001b[0m\u001b[0;34m\u001b[0m\u001b[0m\n",
      "\u001b[0;31mNameError\u001b[0m: name 'w' is not defined"
     ]
    }
   ],
   "source": [
    "xx = np.linspace(-3.2,5.2,100) \n",
    "yy = w[0] + w[1]*xx + w[2]*xx**2 + w[3]*xx**3\n",
    "\n",
    "plt.plot(x,y,'or',xx,yy,'-k')\n",
    "plt.grid()\n",
    "plt.show()"
   ]
  },
  {
   "cell_type": "markdown",
   "metadata": {},
   "source": [
    "## Good luck !"
   ]
  }
 ],
 "metadata": {
  "anaconda-cloud": {},
  "kernelspec": {
   "display_name": "Python 3",
   "language": "python",
   "name": "python3"
  },
  "language_info": {
   "codemirror_mode": {
    "name": "ipython",
    "version": 3
   },
   "file_extension": ".py",
   "mimetype": "text/x-python",
   "name": "python",
   "nbconvert_exporter": "python",
   "pygments_lexer": "ipython3",
   "version": "3.7.0"
  }
 },
 "nbformat": 4,
 "nbformat_minor": 1
}
